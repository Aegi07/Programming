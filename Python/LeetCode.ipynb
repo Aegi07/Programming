{
 "cells": [
  {
   "cell_type": "markdown",
   "metadata": {},
   "source": [
    "# 1D"
   ]
  },
  {
   "cell_type": "markdown",
   "metadata": {},
   "source": [
    "### 70. climb stairs"
   ]
  },
  {
   "cell_type": "code",
   "execution_count": 11,
   "metadata": {},
   "outputs": [],
   "source": [
    "def climbStairs(n):\n",
    "    if n == 1 or n == 2:\n",
    "        return n\n",
    "    return climbStairs(n-1) + climbStairs(n-2)"
   ]
  },
  {
   "cell_type": "code",
   "execution_count": null,
   "metadata": {},
   "outputs": [],
   "source": [
    "def climbStairs(n):\n",
    "    dp = {1:1}\n",
    "    def dfs(i):\n",
    "        if i <= 0:\n",
    "            return 0\n",
    "        if i in dp:\n",
    "            return dp[i]\n",
    "        \n",
    "        step1 = dfs(i-1)\n",
    "        step2 = dfs(i-2)\n",
    "        dp[i] = step1 + step2\n",
    "        return dp[i]\n",
    "    return dfs"
   ]
  },
  {
   "cell_type": "code",
   "execution_count": null,
   "metadata": {},
   "outputs": [],
   "source": [
    "def climbStairs(n):\n",
    "    a,b = 1,1\n",
    "    for _ in range(1,n):\n",
    "        a,b = b, a+b\n",
    "    return b"
   ]
  },
  {
   "cell_type": "markdown",
   "metadata": {},
   "source": [
    "### 746. min cost climbing stairs"
   ]
  },
  {
   "cell_type": "code",
   "execution_count": 40,
   "metadata": {},
   "outputs": [],
   "source": [
    "def minCostClimbingStairs(cost):\n",
    "\n",
    "    for i in range(2, len(cost)):\n",
    "        cost[i] += min(cost[i-1], cost[i-2])\n",
    "    \n",
    "    return min(cost[-1], cost[-2])"
   ]
  },
  {
   "cell_type": "code",
   "execution_count": 41,
   "metadata": {},
   "outputs": [
    {
     "data": {
      "text/plain": [
       "15"
      ]
     },
     "execution_count": 41,
     "metadata": {},
     "output_type": "execute_result"
    }
   ],
   "source": [
    "cost = [10,15,20]\n",
    "minCostClimbingStairs(cost)"
   ]
  },
  {
   "cell_type": "markdown",
   "metadata": {},
   "source": [
    "### 198. house robber"
   ]
  },
  {
   "cell_type": "code",
   "execution_count": 8,
   "metadata": {},
   "outputs": [],
   "source": [
    "def rob(nums):\n",
    "    if len(nums) == 1:\n",
    "        return nums[0]\n",
    "    elif len(nums) == 2:\n",
    "        return max(nums)\n",
    "    take = nums[-1] + rob(nums[:-2])\n",
    "    skip = rob(nums[:-1])\n",
    "    return max(take, skip)"
   ]
  },
  {
   "cell_type": "code",
   "execution_count": 11,
   "metadata": {},
   "outputs": [
    {
     "data": {
      "text/plain": [
       "4"
      ]
     },
     "execution_count": 11,
     "metadata": {},
     "output_type": "execute_result"
    }
   ],
   "source": [
    "def rob(nums):\n",
    "    dp = {}\n",
    "    def dfs(i):\n",
    "        if i >= len(nums):\n",
    "            return 0\n",
    "        if i in dp:\n",
    "            return dp[i]\n",
    "        \n",
    "        take = nums[i] + dfs(i+2)\n",
    "        skip = dfs(i+1)\n",
    "\n",
    "        dp[i] = max(take, skip)\n",
    "        return dp[i]\n",
    "    return dfs(0)"
   ]
  },
  {
   "cell_type": "code",
   "execution_count": 8,
   "metadata": {},
   "outputs": [],
   "source": [
    "def rob(nums):\n",
    "    dp = [0] * (len(nums)+1)\n",
    "    for i in range(1, len(nums)+1):\n",
    "        take = nums[i-1] + dp[max(i-2,0)]\n",
    "        skip = dp[max(i-1,0)]\n",
    "        dp[i] = max(take, skip)\n",
    "    return dp[-1]"
   ]
  },
  {
   "cell_type": "markdown",
   "metadata": {},
   "source": [
    "### house robber II "
   ]
  },
  {
   "cell_type": "code",
   "execution_count": 9,
   "metadata": {},
   "outputs": [],
   "source": [
    "def rob2(nums):\n",
    "    return max(rob(nums[1:]), rob(nums[:-1]))"
   ]
  },
  {
   "cell_type": "code",
   "execution_count": 7,
   "metadata": {},
   "outputs": [],
   "source": [
    "def rob2(nums):\n",
    "    dp1 = [0] * (len(nums))\n",
    "    dp2 = [0] * (len(nums))\n",
    "\n",
    "    for i in range(1,len(nums)):\n",
    "        take = nums[i] + dp1[max(i-2, 0)]\n",
    "        skip = dp1[i-1]\n",
    "        dp1[i] = max(take, skip)\n",
    "\n",
    "        take = nums[i-1] + dp2[max(i-2,0)]\n",
    "        skip = dp2[i-1]\n",
    "        dp2[i] = max(take, skip)\n",
    "    \n",
    "    return max(dp2[-1], dp1[-1])\n",
    "    \n",
    "        "
   ]
  },
  {
   "cell_type": "markdown",
   "metadata": {},
   "source": [
    "### coin change"
   ]
  },
  {
   "cell_type": "code",
   "execution_count": 20,
   "metadata": {},
   "outputs": [],
   "source": [
    "def coinChange(coins, amount):\n",
    "    dp = [0] + [amount+1]*amount\n",
    "    for coin in coins:\n",
    "        for a in range(coin, amount+1):\n",
    "            dp[a] = min(1 + dp[a-coin], dp[a])\n",
    "    return dp[-1] if dp[-1] < amount+1 else -1"
   ]
  },
  {
   "cell_type": "markdown",
   "metadata": {},
   "source": [
    "### 300. longest increasing subsequence"
   ]
  },
  {
   "cell_type": "code",
   "execution_count": 28,
   "metadata": {},
   "outputs": [],
   "source": [
    "def lengthOfLIS(nums):\n",
    "    dp = [1] * len(nums)\n",
    "    curr_max = 1\n",
    "    for j in range(len(nums)-1, -1, -1):\n",
    "        for i in range(j+1, len(nums)):\n",
    "            if nums[j] < nums[i]:\n",
    "                dp[j] = max(dp[j], 1+dp[i])\n",
    "                curr_max = max(dp[j], curr_max)\n",
    "    return curr_max"
   ]
  },
  {
   "cell_type": "markdown",
   "metadata": {},
   "source": [
    "### 139. word break"
   ]
  },
  {
   "cell_type": "code",
   "execution_count": 16,
   "metadata": {},
   "outputs": [],
   "source": [
    "def wordBreak(s, wordDict):\n",
    "    dp = [False]*len(s) + [True]\n",
    "    \n",
    "    for i in range(len(s)-1, -1, -1):\n",
    "        for w in wordDict:\n",
    "            c1 = len(w) + i <= len(s)\n",
    "            c2 = w == s[i:i+len(w)]\n",
    "            if c1 and c2:\n",
    "                dp[i] = dp[i+len(w)]\n",
    "            if dp[i]:\n",
    "                break\n",
    "    return dp[0]"
   ]
  },
  {
   "cell_type": "markdown",
   "metadata": {},
   "source": [
    "### 91. decode ways"
   ]
  },
  {
   "cell_type": "code",
   "execution_count": 26,
   "metadata": {},
   "outputs": [],
   "source": [
    "def numDecodings(s):\n",
    "    dp = [1] + [0] * len(s)\n",
    "    \n",
    "    for i in range(1,len(dp)):\n",
    "\n",
    "        # single digit\n",
    "        if s[i-1] != '0':\n",
    "            dp[i] = dp[i-1]\n",
    "        # double digits\n",
    "        if i>=2:\n",
    "            if 10 <= int(s[i-2]+s[i-1]) <= 26:\n",
    "                dp[i] += dp[i-2]\n",
    "    \n",
    "    return dp[-1]"
   ]
  },
  {
   "cell_type": "code",
   "execution_count": 23,
   "metadata": {},
   "outputs": [],
   "source": [
    "def numDecodings(s):\n",
    "    dp = {len(s):1}\n",
    "\n",
    "    def dfs(i):\n",
    "        if i in dp:\n",
    "            return dp[i]\n",
    "        if i < len(s) and s[i] == '0':\n",
    "            return 0\n",
    "        \n",
    "        res = dfs(i+1)\n",
    "        if i+1 < len(s) and 10 <= int(s[i]+s[i+1]) <= 26:\n",
    "            res += dfs(i+2)\n",
    "        dp[i] = res\n",
    "        return dp[i]\n",
    "    return dfs(0)"
   ]
  },
  {
   "cell_type": "markdown",
   "metadata": {},
   "source": [
    "### 5. longest palindromic substring\n",
    "\n",
    "key: check palindrom starting from middle, then spread to left and right"
   ]
  },
  {
   "cell_type": "code",
   "execution_count": 21,
   "metadata": {},
   "outputs": [],
   "source": [
    "def longestPalindrome(s):\n",
    "    res = ''\n",
    "    max_len = 0\n",
    "    for i in range(len(s)):\n",
    "        # odd case:\n",
    "        l, r = i, i\n",
    "        while l >= 0 and r <= len(s)-1 and s[l] == s[r]:\n",
    "            if r-l+1 > max_len:\n",
    "                max_len = r-l+1\n",
    "                res = s[l:r+1]\n",
    "            l -=1\n",
    "            r += 1\n",
    "        \n",
    "        # even case:\n",
    "        l, r = i, i+1\n",
    "        while l >= 0 and r <= len(s)-1 and s[l] == s[r]:\n",
    "            if r-l+1 > max_len:\n",
    "                max_len = r-l+1\n",
    "                res = s[l:r+1]\n",
    "            l -=1\n",
    "            r += 1\n",
    "\n",
    "    return res"
   ]
  },
  {
   "cell_type": "markdown",
   "metadata": {},
   "source": [
    "### 647. palindromic substrings"
   ]
  },
  {
   "cell_type": "code",
   "execution_count": 11,
   "metadata": {},
   "outputs": [],
   "source": [
    "def countSubstrings(s):\n",
    "    count = 0\n",
    "\n",
    "    for i in range(len(s)):\n",
    "        l,r = i, i\n",
    "        while l >= 0 and r < len(s) and s[l] == s[r]:\n",
    "            count += 1\n",
    "            l -= 1\n",
    "            r += 1\n",
    "        l,r = i, i+1\n",
    "        while l >= 0 and r < len(s) and s[l] == s[r]:\n",
    "            count += 1\n",
    "            l -= 1\n",
    "            r += 1\n",
    "    return count"
   ]
  },
  {
   "cell_type": "markdown",
   "metadata": {},
   "source": [
    "### 152. maximum product subarray\n",
    "\n",
    "key: consider positives (max), negatives (min, max alternate) and zero (paritition)"
   ]
  },
  {
   "cell_type": "code",
   "execution_count": 34,
   "metadata": {},
   "outputs": [],
   "source": [
    "def maxProduct(nums):\n",
    "    res = max(nums)\n",
    "    cur_max, cur_min = 1, 1\n",
    "    for num in nums:\n",
    "        if num == 0:\n",
    "            cur_max, cur_min = 1, 1\n",
    "            \n",
    "        else:\n",
    "            cur_max, cur_min = max(num*cur_max, num*cur_min, num), min(num*cur_max, num*cur_min, num)\n",
    "            res = max(res, cur_max)\n",
    "    \n",
    "    return res"
   ]
  },
  {
   "cell_type": "markdown",
   "metadata": {},
   "source": [
    "### 416. partition equal subset sum"
   ]
  },
  {
   "cell_type": "code",
   "execution_count": 42,
   "metadata": {},
   "outputs": [],
   "source": [
    "def canPartition(nums):\n",
    "    tar = sum(nums)\n",
    "    if tar % 2 == 1:\n",
    "        return False\n",
    "    t1, t2 = tar//2, tar//2\n",
    "    def dfs(i,t1, t2):\n",
    "        if t1 == 0 and t2 == 0:\n",
    "            return True\n",
    "        if t1 < 0 or t2 < 0:\n",
    "            return False\n",
    "\n",
    "        c1 = dfs(i+1, t1-nums[i], t2)\n",
    "        c2 = dfs(i+1, t1, t2-nums[i])\n",
    "\n",
    "        return c1 or c2\n",
    "    return dfs(0, t1, t2)"
   ]
  },
  {
   "cell_type": "code",
   "execution_count": 48,
   "metadata": {},
   "outputs": [],
   "source": [
    "def canPartition(nums):\n",
    "    tar = sum(nums)\n",
    "    if tar % 2 == 1:\n",
    "        return False\n",
    "    t1, t2 = tar//2, tar//2\n",
    "    dp = {}\n",
    "    def dfs(i,t1, t2):\n",
    "        if t1 == 0 and t2 == 0:\n",
    "            return True\n",
    "        if t1 < 0 or t2 < 0:\n",
    "            return False\n",
    "        if (i, t1, t2) in dp:\n",
    "            return dp[(i, t1, t2)]\n",
    "        \n",
    "        c1 = dfs(i+1, t1-nums[i], t2)\n",
    "        c2 = dfs(i+1, t1, t2-nums[i])\n",
    "        dp[(i+1, t1-nums[i], t2)] = c1\n",
    "        dp[(i+1, t1, t2-nums[i])] = c2\n",
    "\n",
    "        return c1 or c2\n",
    "    return dfs(0, t1, t2)"
   ]
  },
  {
   "cell_type": "code",
   "execution_count": 50,
   "metadata": {},
   "outputs": [],
   "source": [
    "def canPartition(nums):\n",
    "    if sum(nums) % 2:\n",
    "        return False\n",
    "\n",
    "    dp = set()\n",
    "    dp.add(0)\n",
    "    target = sum(nums) // 2\n",
    "\n",
    "    for i in range(len(nums) - 1, -1, -1):\n",
    "        nextDP = set()\n",
    "        for t in dp:\n",
    "            if (t + nums[i]) == target:\n",
    "                return True\n",
    "            nextDP.add(t + nums[i])\n",
    "            nextDP.add(t)\n",
    "        dp = nextDP\n",
    "    return False\n"
   ]
  },
  {
   "cell_type": "markdown",
   "metadata": {},
   "source": [
    "# 2D"
   ]
  },
  {
   "cell_type": "markdown",
   "metadata": {},
   "source": [
    "### 62. unique paths"
   ]
  },
  {
   "cell_type": "code",
   "execution_count": 57,
   "metadata": {},
   "outputs": [],
   "source": [
    "def uniquePaths(m,n):\n",
    "    dp = [[1]+[0] * (m-1) for _ in range(n)]\n",
    "    dp[0] = [1] * m\n",
    "    for j in range(1,n):\n",
    "        for i in range(1,m):\n",
    "            dp[j][i] = dp[j-1][i] + dp[j][i-1]\n",
    "    \n",
    "    return dp[-1][-1]"
   ]
  },
  {
   "cell_type": "code",
   "execution_count": 66,
   "metadata": {},
   "outputs": [],
   "source": [
    "def uniquePaths(m,n):\n",
    "    dp = [1] * m\n",
    "    for i in range(n-1):\n",
    "        for j in range(1,m):\n",
    "            dp[j] += dp[j-1]\n",
    "    return dp"
   ]
  },
  {
   "cell_type": "code",
   "execution_count": 9,
   "metadata": {},
   "outputs": [],
   "source": [
    "def uniquePaths(m,n):\n",
    "    res = 1\n",
    "    for i in range(m+n-2,m-1,-1):\n",
    "        res *= i\n",
    "    for j in range(n-1,0,-1):\n",
    "        res /= j\n",
    "    return round(res)"
   ]
  },
  {
   "cell_type": "markdown",
   "metadata": {},
   "source": [
    "### 1143. longest common subsequence"
   ]
  },
  {
   "cell_type": "code",
   "execution_count": 80,
   "metadata": {},
   "outputs": [],
   "source": [
    "def longestCommonSubsequence(text1, text2):\n",
    "    dp = [[0] * (len(text1)+1) for _ in range(len(text2)+1)]\n",
    "    \n",
    "    for j in range(1,len(text2)+1):\n",
    "        for i in range(1,len(text1)+1):\n",
    "            if text2[j-1] == text1[i-1]:\n",
    "                dp[j][i] = dp[j-1][i-1] + 1\n",
    "            else:\n",
    "                dp[j][i] = max(dp[j][i-1], dp[j-1][i])\n",
    "\n",
    "    return dp[-1][-1]"
   ]
  },
  {
   "cell_type": "markdown",
   "metadata": {},
   "source": [
    "### 309. Best Time to Buy and Sell Stock with Cooldown"
   ]
  },
  {
   "cell_type": "code",
   "execution_count": 14,
   "metadata": {},
   "outputs": [],
   "source": [
    "def maxProfit(prices):\n",
    "    dp = {}\n",
    "    def dfs(i, state):\n",
    "        if i >= len(prices):\n",
    "            return 0\n",
    "        if (i, state) in dp:\n",
    "            return dp[(i, state)]\n",
    "        # true: buy, false: cd\n",
    "        if state: \n",
    "            buy = dfs(i+1, not state) - prices[i]\n",
    "            cd = dfs(i+1, state)\n",
    "            dp[(i, state)] = max(buy, cd)\n",
    "        else:\n",
    "            cd = dfs(i+1, state)\n",
    "            sell = dfs(i+2, not state) + prices[i]\n",
    "            dp[(i, state)] = max(cd, sell)\n",
    "        return dp[(i, state)]\n",
    "    return dfs(0, True)"
   ]
  },
  {
   "cell_type": "code",
   "execution_count": 15,
   "metadata": {},
   "outputs": [
    {
     "data": {
      "text/plain": [
       "3"
      ]
     },
     "execution_count": 15,
     "metadata": {},
     "output_type": "execute_result"
    }
   ],
   "source": [
    "prices = [1,2,3,0,2]\n",
    "maxProfit(prices)"
   ]
  },
  {
   "cell_type": "markdown",
   "metadata": {},
   "source": [
    "### 518. Coin Change II"
   ]
  },
  {
   "cell_type": "code",
   "execution_count": 24,
   "metadata": {},
   "outputs": [],
   "source": [
    "def change(amount, coins):\n",
    "    dp = [1] + [0] * amount\n",
    "    for coin in coins:\n",
    "        for amt in range(coin, amount+1):\n",
    "            dp[amt] += dp[amt-coin]\n",
    "    return dp[-1]"
   ]
  },
  {
   "cell_type": "code",
   "execution_count": 25,
   "metadata": {},
   "outputs": [
    {
     "name": "stdout",
     "output_type": "stream",
     "text": [
      "[1, 1, 1, 1, 1, 1]\n",
      "[1, 1, 2, 2, 3, 3]\n",
      "[1, 1, 2, 2, 3, 4]\n"
     ]
    },
    {
     "data": {
      "text/plain": [
       "[1, 1, 2, 2, 3, 4]"
      ]
     },
     "execution_count": 25,
     "metadata": {},
     "output_type": "execute_result"
    }
   ],
   "source": [
    "amount = 5; coins = [1,2,5]\n",
    "change(amount, coins)"
   ]
  },
  {
   "cell_type": "markdown",
   "metadata": {},
   "source": [
    "### 72. Edit Distance"
   ]
  },
  {
   "cell_type": "code",
   "execution_count": 44,
   "metadata": {},
   "outputs": [],
   "source": [
    "def minDistance(word1, word2):\n",
    "    dp = [[0] * (len(word1)+1) for _ in range(len(word2)+1)]\n",
    "    for i in range(len(dp[0])):\n",
    "        dp[0][i] += i\n",
    "    for j in range(len(dp)):\n",
    "        dp[j][0] += j\n",
    "    \n",
    "    for j in range(1, len(dp)):\n",
    "        for i in range(1, len(dp[0])):\n",
    "            if word1[i-1] == word2[j-1]:\n",
    "                dp[j][i] = dp[j-1][i-1]\n",
    "            else:\n",
    "                dp[j][i] = 1 + min(dp[j-1][i-1], dp[j][i-1], dp[j-1][i])\n",
    "    return dp[-1][-1]"
   ]
  },
  {
   "cell_type": "code",
   "execution_count": 45,
   "metadata": {},
   "outputs": [
    {
     "data": {
      "text/plain": [
       "3"
      ]
     },
     "execution_count": 45,
     "metadata": {},
     "output_type": "execute_result"
    }
   ],
   "source": [
    "word1 = 'horse'; word2 = 'ros'\n",
    "minDistance(word1, word2)"
   ]
  },
  {
   "cell_type": "markdown",
   "metadata": {},
   "source": [
    "### 0/1 knapsack"
   ]
  },
  {
   "cell_type": "code",
   "execution_count": 58,
   "metadata": {},
   "outputs": [],
   "source": [
    "def knapsack(N, W, profit, weight):\n",
    "    if N <= 0 or W <= 0:\n",
    "        return 0\n",
    "    \n",
    "    skip = knapsack(N-1, W, profit, weight)\n",
    "    take = knapsack(N-1, W-weight[N-1], profit, weight) + profit[N-1]\n",
    "\n",
    "    if W < weight[N-1]:\n",
    "        return skip\n",
    "\n",
    "    return max(skip, take)"
   ]
  },
  {
   "cell_type": "code",
   "execution_count": 60,
   "metadata": {},
   "outputs": [],
   "source": [
    "def knapsack(N, W, profit, weight):\n",
    "    dp = {}\n",
    "    def dfs(idx, wgt):\n",
    "        if idx == N or wgt <= 0:\n",
    "            return 0\n",
    "        if (idx, wgt) in dp:\n",
    "            return dp[(idx, wgt)]\n",
    "\n",
    "        take = profit[idx] + dfs(idx+1, wgt-weight[idx])\n",
    "        skip = dfs(idx+1, wgt)\n",
    "\n",
    "        if wgt < weight[idx]:\n",
    "            dp[(idx, wgt)] = skip\n",
    "            return dp[(idx, wgt)]\n",
    "        \n",
    "        dp[(idx, wgt)] = max(take, skip)\n",
    "        return dp[(idx, wgt)]\n",
    "    \n",
    "    return dfs(0, W)"
   ]
  },
  {
   "cell_type": "code",
   "execution_count": 106,
   "metadata": {},
   "outputs": [],
   "source": [
    "def knapsack(N, W, profit, weight):\n",
    "    dp = [[0] * (W+1) for _ in range(N+1)]\n",
    "\n",
    "    for idx in range(1,N+1):\n",
    "        for wgt in range(1, W+1):\n",
    "            take = profit[idx-1] + dp[idx-1][wgt-weight[idx-1]]\n",
    "            skip = dp[idx-1][wgt]\n",
    "            if weight[idx-1] <= wgt:\n",
    "                dp[idx][wgt] = max(take, skip)\n",
    "            else:\n",
    "                dp[idx][wgt] = skip\n",
    "    return dp[-1][-1]"
   ]
  },
  {
   "cell_type": "code",
   "execution_count": 107,
   "metadata": {},
   "outputs": [
    {
     "data": {
      "text/plain": [
       "5"
      ]
     },
     "execution_count": 107,
     "metadata": {},
     "output_type": "execute_result"
    }
   ],
   "source": [
    "N = 3; W = 4; profit = [1, 2, 3]; weight = [2, 3, 1]\n",
    "knapsack(N, W, profit, weight)"
   ]
  },
  {
   "cell_type": "markdown",
   "metadata": {},
   "source": [
    "### 2140. Solving Questions With Brainpower"
   ]
  },
  {
   "cell_type": "code",
   "execution_count": 112,
   "metadata": {},
   "outputs": [],
   "source": [
    "def mostPoints(questions):\n",
    "    dp = {}\n",
    "    def dfs(i):\n",
    "        if i >= len(questions):\n",
    "            return 0\n",
    "        if i in dp:\n",
    "            return dp[i]\n",
    "        points, skip_turns = questions[i]\n",
    "        take = points + dfs(i+1+skip_turns)\n",
    "        skip = dfs(i+1)\n",
    "        dp[i] = max(take, skip)\n",
    "        return dp[i]\n",
    "    \n",
    "    return dfs(0)"
   ]
  },
  {
   "cell_type": "code",
   "execution_count": 178,
   "metadata": {},
   "outputs": [],
   "source": [
    "def mostPoints(questions):\n",
    "    n = len(questions)\n",
    "    dp = [0] * (n + 1)\n",
    "    for i in range(n-1, -1, -1):\n",
    "        points, skip = questions[i]\n",
    "        solve = points + dp[min(n, i + skip + 1)]\n",
    "        unsolve = dp[i + 1]\n",
    "        dp[i] = max(solve, unsolve)\n",
    "    return dp[0]"
   ]
  },
  {
   "cell_type": "code",
   "execution_count": 179,
   "metadata": {},
   "outputs": [
    {
     "data": {
      "text/plain": [
       "7"
      ]
     },
     "execution_count": 179,
     "metadata": {},
     "output_type": "execute_result"
    }
   ],
   "source": [
    "questions = [[1,1],[2,2],[3,3],[4,4],[5,5]]\n",
    "mostPoints(questions)"
   ]
  },
  {
   "cell_type": "markdown",
   "metadata": {},
   "source": [
    "### 97. Interleaving String"
   ]
  },
  {
   "cell_type": "code",
   "execution_count": 10,
   "metadata": {},
   "outputs": [],
   "source": [
    "def isInterleave(s1, s2, s3):\n",
    "    i1, i2, i3 = 0, 0, 0\n",
    "    dp = {}\n",
    "    def dfs(i,j,k):\n",
    "        if k == len(s3):\n",
    "            return True\n",
    "        if (i,j,k) in dp:\n",
    "            return dp[(i,j,k)]\n",
    "        if i<len(s1) and s1[i] == s3[k] and dfs(i+1, j, k+1):\n",
    "            return True\n",
    "        if j<len(s2) and s2[j] == s3[k] and dfs(i, j+1, k+1):\n",
    "            return True\n",
    "        dp[(i,j,k)] = False\n",
    "        return dp[(i,j,k)]\n",
    "    \n",
    "    return dfs(i1, i2, i3)\n"
   ]
  },
  {
   "cell_type": "code",
   "execution_count": 14,
   "metadata": {},
   "outputs": [],
   "source": [
    "def isInterleave(s1,s2,s3):\n",
    "    dp = {}\n",
    "    if len(s1) + len(s2) != len(s3):\n",
    "        return False\n",
    "    def dfs(i, j):\n",
    "        if i == len(s1) and j == len(s2):\n",
    "            return True\n",
    "        if (i,j) in dp:\n",
    "            return dp[(i,j)]\n",
    "        \n",
    "        if i<len(s1) and s1[i] == s3[i+j] and dfs(i+1,j):\n",
    "            return True\n",
    "        \n",
    "        if j<len(s2) and s2[j] == s3[i+j] and dfs(i,j+1):\n",
    "            return True\n",
    "        \n",
    "        dp[(i,j)] = False\n",
    "        return dp[(i,j)]\n",
    "    return dfs(0,0)"
   ]
  },
  {
   "cell_type": "code",
   "execution_count": 32,
   "metadata": {},
   "outputs": [],
   "source": [
    "def isInterleave(s1,s2,s3):\n",
    "    m, n, l = len(s1), len(s2), len(s3)\n",
    "    if m + n != l:\n",
    "        return False\n",
    "    \n",
    "    dp = [[False] * (n + 1) for _ in range(m + 1)]\n",
    "    dp[0][0] = True\n",
    "    \n",
    "    for i in range(1, m + 1):\n",
    "        dp[i][0] = dp[i-1][0] and s1[i-1] == s3[i-1]\n",
    "    \n",
    "    for j in range(1, n + 1):\n",
    "        dp[0][j] = dp[0][j-1] and s2[j-1] == s3[j-1]\n",
    "    \n",
    "    for i in range(1, m + 1):\n",
    "        for j in range(1, n + 1):\n",
    "            dp[i][j] = (dp[i-1][j] and s1[i-1] == s3[i+j-1]) or (dp[i][j-1] and s2[j-1] == s3[i+j-1])\n",
    "    \n",
    "    return dp[m][n]"
   ]
  },
  {
   "cell_type": "code",
   "execution_count": 34,
   "metadata": {},
   "outputs": [],
   "source": [
    "def isInterleave(s1,s2,s3):\n",
    "    m, n, l = len(s1), len(s2), len(s3)\n",
    "    if m + n != l:\n",
    "        return False\n",
    "    \n",
    "    if m < n:\n",
    "        return isInterleave(s2, s1, s3)\n",
    "    \n",
    "    dp = [False] * (n + 1)\n",
    "    dp[0] = True\n",
    "    \n",
    "    for j in range(1, n + 1):\n",
    "        dp[j] = dp[j-1] and s2[j-1] == s3[j-1]\n",
    "    \n",
    "    for i in range(1, m + 1):\n",
    "        dp[0] = dp[0] and s1[i-1] == s3[i-1]\n",
    "        for j in range(1, n + 1):\n",
    "            dp[j] = (dp[j] and s1[i-1] == s3[i+j-1]) or (dp[j-1] and s2[j-1] == s3[i+j-1])\n",
    "    \n",
    "    return dp[n]"
   ]
  },
  {
   "cell_type": "code",
   "execution_count": 35,
   "metadata": {},
   "outputs": [
    {
     "data": {
      "text/plain": [
       "True"
      ]
     },
     "execution_count": 35,
     "metadata": {},
     "output_type": "execute_result"
    }
   ],
   "source": [
    "s1 = \"abc\"; s2 = \"def\"; s3 = \"abcdef\"\n",
    "isInterleave(s1,s2,s3)"
   ]
  },
  {
   "cell_type": "markdown",
   "metadata": {},
   "source": [
    "### 494. Target Sum"
   ]
  },
  {
   "cell_type": "code",
   "execution_count": 82,
   "metadata": {},
   "outputs": [],
   "source": [
    "def findTargetSumWays(nums, target):\n",
    "    dp = {}\n",
    "    def dfs(i, s):\n",
    "        if i >= len(nums):\n",
    "            return 1 if s==target else 0\n",
    "        if (i,s) in dp:\n",
    "            return dp[(i,s)]\n",
    "        \n",
    "        dp[(i,s)] = dfs(i+1,s+nums[i]) + dfs(i+1, s-nums[i])\n",
    "        return dp[(i,s)]\n",
    "    \n",
    "    return dfs(0,0)\n",
    "        \n",
    "    "
   ]
  },
  {
   "cell_type": "code",
   "execution_count": 90,
   "metadata": {},
   "outputs": [],
   "source": [
    "def findTargetSumWays(nums, target):\n",
    "    n = len(nums)\n",
    "\n",
    "    dp = {0: 1} # map val -> num of ways of getting there\n",
    "    for num in nums:\n",
    "        newdp = {}\n",
    "        for val, freq in dp.items():\n",
    "            newdp[val + num] = newdp.get(val + num, 0) + freq\n",
    "            newdp[val - num] = newdp.get(val - num, 0) + freq\n",
    "        dp = newdp\n",
    "    return dp.get(target, 0)"
   ]
  },
  {
   "cell_type": "code",
   "execution_count": 91,
   "metadata": {},
   "outputs": [
    {
     "data": {
      "text/plain": [
       "5"
      ]
     },
     "execution_count": 91,
     "metadata": {},
     "output_type": "execute_result"
    }
   ],
   "source": [
    "nums = [1,1,1,1,1]\n",
    "target = 3\n",
    "findTargetSumWays(nums,target)"
   ]
  },
  {
   "cell_type": "code",
   "execution_count": null,
   "metadata": {},
   "outputs": [],
   "source": []
  },
  {
   "cell_type": "code",
   "execution_count": null,
   "metadata": {},
   "outputs": [],
   "source": []
  }
 ],
 "metadata": {
  "kernelspec": {
   "display_name": "base",
   "language": "python",
   "name": "python3"
  },
  "language_info": {
   "codemirror_mode": {
    "name": "ipython",
    "version": 3
   },
   "file_extension": ".py",
   "mimetype": "text/x-python",
   "name": "python",
   "nbconvert_exporter": "python",
   "pygments_lexer": "ipython3",
   "version": "3.10.12"
  }
 },
 "nbformat": 4,
 "nbformat_minor": 2
}
